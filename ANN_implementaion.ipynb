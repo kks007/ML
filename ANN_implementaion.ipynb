{
 "cells": [
  {
   "cell_type": "code",
   "execution_count": 1,
   "metadata": {},
   "outputs": [
    {
     "name": "stdout",
     "output_type": "stream",
     "text": [
      "Accuracy for Neural Network is: 98.05555555555556\n",
      "Confusion Matrix\n",
      "[[38  0  0  0  0  0  0  0  0  0]\n",
      " [ 0 30  1  0  0  0  0  0  1  0]\n",
      " [ 0  0 41  0  0  0  0  0  0  0]\n",
      " [ 0  0  0 32  0  1  0  0  0  0]\n",
      " [ 0  0  0  0 37  0  0  0  0  0]\n",
      " [ 0  0  0  0  0 38  0  0  0  0]\n",
      " [ 0  0  0  0  0  0 34  0  1  0]\n",
      " [ 0  0  0  0  0  0  0 37  0  1]\n",
      " [ 0  2  0  0  0  0  0  0 31  0]\n",
      " [ 0  0  0  0  0  0  0  0  0 35]]\n"
     ]
    }
   ],
   "source": [
    "# Step 1\n",
    "# Importing the necessary libraries\n",
    "import numpy as np\n",
    "from sklearn.datasets import load_digits\n",
    "from sklearn.model_selection import train_test_split\n",
    "from sklearn.neural_network import MLPClassifier\n",
    "from sklearn.metrics import confusion_matrix, accuracy_score \n",
    "\n",
    "# Step 2\n",
    "# Loading the dataset\n",
    "dataset = load_digits()\n",
    "\n",
    "# Step 3\n",
    "# Splitting the data into tst and train\n",
    "# 80 - 20 Split\n",
    "x_train, x_test, y_train, y_test = train_test_split(dataset.data, dataset.target, test_size=0.20, random_state=4)\n",
    "\n",
    "# Step 4\n",
    "# Making the Neural Network Classifier\n",
    "NN = MLPClassifier()\n",
    "\n",
    "# Step 5\n",
    "# Training the model on the training data and labels\n",
    "NN.fit(x_train, y_train)\n",
    "\n",
    "# Step 6\n",
    "# Testing the model i.e. predicting the labels of the test data.\n",
    "y_pred = NN.predict(x_test)\n",
    "\n",
    "# Step 7\n",
    "# Evaluating the results of the model\n",
    "accuracy = accuracy_score(y_test,y_pred)*100\n",
    "confusion_mat = confusion_matrix(y_test,y_pred)\n",
    "\n",
    "# Step 8\n",
    "# Printing the Results\n",
    "print(\"Accuracy for Neural Network is:\",accuracy)\n",
    "print(\"Confusion Matrix\")\n",
    "print(confusion_mat)\n"
   ]
  }
 ],
 "metadata": {
  "kernelspec": {
   "display_name": "Python 3.10.1 64-bit",
   "language": "python",
   "name": "python3"
  },
  "language_info": {
   "codemirror_mode": {
    "name": "ipython",
    "version": 3
   },
   "file_extension": ".py",
   "mimetype": "text/x-python",
   "name": "python",
   "nbconvert_exporter": "python",
   "pygments_lexer": "ipython3",
   "version": "3.10.1"
  },
  "orig_nbformat": 4,
  "vscode": {
   "interpreter": {
    "hash": "a775d68c7caa7466e6467fb23007def76106cad7ddbb74102d7b5c3b443bac69"
   }
  }
 },
 "nbformat": 4,
 "nbformat_minor": 2
}
