{
 "cells": [
  {
   "cell_type": "code",
   "execution_count": null,
   "metadata": {},
   "outputs": [],
   "source": [
    "from matplotlib import pyplot as plt\n",
    " \n",
    "x = [3,5,9,11,13,14,16,18,19,25,26]\n",
    "y = [1,8,3,7,5,11,19,12,4,9,13]\n",
    "\n",
    "plt.plot(x,y)\n",
    "plt.title('Info')\n",
    "plt.ylabel('Y axis')\n",
    "plt.xlabel('X axis')\n",
    "plt.show()\n"
   ]
  },
  {
   "cell_type": "code",
   "execution_count": null,
   "metadata": {},
   "outputs": [],
   "source": [
    "import matplotlib.pyplot as plt\n",
    "x = [1,1.5,2,2.5,3,3.5,3.6]\n",
    "y = [7.5,8,8.5,9,9.5,10,10.5]\n",
    " \n",
    "x1=[8,8.5,9,9.5,10,10.5,11]\n",
    "y1=[3,3.5,3.7,4,4.5,5,5.2]\n",
    " \n",
    "plt.scatter(x,y, label='high income low saving',color='r')\n",
    "plt.scatter(x1,y1,label='low income high savings',color='b')\n",
    "plt.xlabel('saving*100')\n",
    "plt.ylabel('income*1000')\n",
    "plt.title('Scatter Plot')\n",
    "plt.legend()\n",
    "plt.show()\n"
   ]
  },
  {
   "cell_type": "code",
   "execution_count": null,
   "metadata": {},
   "outputs": [],
   "source": [
    "import pandas as pd\n",
    "import numpy as np\n",
    "\n",
    "df = pd.read_csv('E:\\ML\\CSVs\\Iris.csv')\n"
   ]
  },
  {
   "cell_type": "code",
   "execution_count": null,
   "metadata": {},
   "outputs": [],
   "source": [
    "df.head()"
   ]
  },
  {
   "cell_type": "code",
   "execution_count": null,
   "metadata": {},
   "outputs": [],
   "source": [
    "df.isnull()"
   ]
  },
  {
   "cell_type": "code",
   "execution_count": null,
   "metadata": {},
   "outputs": [],
   "source": [
    "df1 = pd.read_csv('E:\\ML\\CSVs\\Google.csv')\n",
    "\n",
    "df1.plot(\"Date\", [\"High\", \"Low\"])\n",
    "\n",
    "plt.show()"
   ]
  },
  {
   "cell_type": "code",
   "execution_count": null,
   "metadata": {},
   "outputs": [],
   "source": [
    "import pandas as pd\n",
    "  \n",
    "  \n",
    "data = {'name': ['nick', 'david', 'joe', 'ross'],\n",
    "        'age': ['5', '10', '7', '6']} \n",
    "new = pd.DataFrame.from_dict(data)\n",
    "print(data)\n",
    "  "
   ]
  },
  {
   "cell_type": "code",
   "execution_count": null,
   "metadata": {},
   "outputs": [],
   "source": [
    "import pandas as pd\n",
    "import numpy as np\n",
    "\n",
    "df2 = pd.read_csv('E:\\ML\\CSVs\\Iris.csv')\n",
    "\n",
    "df2.isnull()\n",
    "\n",
    "df1.plot()\n"
   ]
  },
  {
   "cell_type": "code",
   "execution_count": null,
   "metadata": {},
   "outputs": [],
   "source": [
    "df1.iloc[2:30].plot(kind = \"bar\", x = \"Date\", y = \"High\")\n"
   ]
  },
  {
   "cell_type": "code",
   "execution_count": null,
   "metadata": {},
   "outputs": [],
   "source": [
    "df1.iloc[1:30].plot(kind = 'scatter', x = \"Date\", y = \"High\")"
   ]
  },
  {
   "cell_type": "code",
   "execution_count": null,
   "metadata": {},
   "outputs": [],
   "source": [
    "df1.iloc[0:30].plot(x = \"Date\", y = [\"High\", \"Low\"])"
   ]
  },
  {
   "cell_type": "code",
   "execution_count": null,
   "metadata": {},
   "outputs": [],
   "source": [
    "\n",
    "import seaborn\n",
    "import matplotlib.pyplot as plt\n",
    "\n",
    "seaborn.pairplot(df1)\n",
    "\n"
   ]
  },
  {
   "cell_type": "code",
   "execution_count": null,
   "metadata": {},
   "outputs": [],
   "source": [
    "penguins = seaborn.load_dataset(\"penguins\")\n",
    "seaborn.pairplot(penguins)"
   ]
  }
 ],
 "metadata": {
  "kernelspec": {
   "display_name": "Python 3.10.1 64-bit",
   "language": "python",
   "name": "python3"
  },
  "language_info": {
   "codemirror_mode": {
    "name": "ipython",
    "version": 3
   },
   "file_extension": ".py",
   "mimetype": "text/x-python",
   "name": "python",
   "nbconvert_exporter": "python",
   "pygments_lexer": "ipython3",
   "version": "3.10.1"
  },
  "orig_nbformat": 4,
  "vscode": {
   "interpreter": {
    "hash": "a775d68c7caa7466e6467fb23007def76106cad7ddbb74102d7b5c3b443bac69"
   }
  }
 },
 "nbformat": 4,
 "nbformat_minor": 2
}
