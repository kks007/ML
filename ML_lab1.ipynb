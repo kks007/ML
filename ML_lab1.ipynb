{
  "cells": [
    {
      "cell_type": "code",
      "execution_count": 4,
      "metadata": {
        "id": "Mu4cr7caQM4H"
      },
      "outputs": [],
      "source": [
        "import pandas as pd\n",
        "import numpy as np"
      ]
    },
    {
      "cell_type": "code",
      "execution_count": 5,
      "metadata": {
        "id": "yqtDfhZtRnzE"
      },
      "outputs": [],
      "source": [
        "df = pd.read_csv(\"CSVs/Military Expenditure.csv\")"
      ]
    },
    {
      "cell_type": "code",
      "execution_count": 6,
      "metadata": {
        "id": "oJVsNv3vSW_d"
      },
      "outputs": [
        {
          "data": {
            "text/html": [
              "<div>\n",
              "<style scoped>\n",
              "    .dataframe tbody tr th:only-of-type {\n",
              "        vertical-align: middle;\n",
              "    }\n",
              "\n",
              "    .dataframe tbody tr th {\n",
              "        vertical-align: top;\n",
              "    }\n",
              "\n",
              "    .dataframe thead th {\n",
              "        text-align: right;\n",
              "    }\n",
              "</style>\n",
              "<table border=\"1\" class=\"dataframe\">\n",
              "  <thead>\n",
              "    <tr style=\"text-align: right;\">\n",
              "      <th></th>\n",
              "      <th>Name</th>\n",
              "      <th>Code</th>\n",
              "      <th>Type</th>\n",
              "      <th>Indicator Name</th>\n",
              "      <th>1960</th>\n",
              "      <th>1961</th>\n",
              "      <th>1962</th>\n",
              "      <th>1963</th>\n",
              "      <th>1964</th>\n",
              "      <th>1965</th>\n",
              "      <th>...</th>\n",
              "      <th>2009</th>\n",
              "      <th>2010</th>\n",
              "      <th>2011</th>\n",
              "      <th>2012</th>\n",
              "      <th>2013</th>\n",
              "      <th>2014</th>\n",
              "      <th>2015</th>\n",
              "      <th>2016</th>\n",
              "      <th>2017</th>\n",
              "      <th>2018</th>\n",
              "    </tr>\n",
              "  </thead>\n",
              "  <tbody>\n",
              "    <tr>\n",
              "      <th>0</th>\n",
              "      <td>Aruba</td>\n",
              "      <td>ABW</td>\n",
              "      <td>Country</td>\n",
              "      <td>Military expenditure (current USD)</td>\n",
              "      <td>NaN</td>\n",
              "      <td>NaN</td>\n",
              "      <td>NaN</td>\n",
              "      <td>NaN</td>\n",
              "      <td>NaN</td>\n",
              "      <td>NaN</td>\n",
              "      <td>...</td>\n",
              "      <td>NaN</td>\n",
              "      <td>NaN</td>\n",
              "      <td>NaN</td>\n",
              "      <td>NaN</td>\n",
              "      <td>NaN</td>\n",
              "      <td>NaN</td>\n",
              "      <td>NaN</td>\n",
              "      <td>NaN</td>\n",
              "      <td>NaN</td>\n",
              "      <td>NaN</td>\n",
              "    </tr>\n",
              "    <tr>\n",
              "      <th>1</th>\n",
              "      <td>Afghanistan</td>\n",
              "      <td>AFG</td>\n",
              "      <td>Country</td>\n",
              "      <td>Military expenditure (current USD)</td>\n",
              "      <td>NaN</td>\n",
              "      <td>NaN</td>\n",
              "      <td>NaN</td>\n",
              "      <td>NaN</td>\n",
              "      <td>NaN</td>\n",
              "      <td>NaN</td>\n",
              "      <td>...</td>\n",
              "      <td>2.518695e+08</td>\n",
              "      <td>2.981469e+08</td>\n",
              "      <td>3.258070e+08</td>\n",
              "      <td>2.385834e+08</td>\n",
              "      <td>2.171941e+08</td>\n",
              "      <td>2.682271e+08</td>\n",
              "      <td>1.995186e+08</td>\n",
              "      <td>1.858783e+08</td>\n",
              "      <td>1.914071e+08</td>\n",
              "      <td>1.980863e+08</td>\n",
              "    </tr>\n",
              "    <tr>\n",
              "      <th>2</th>\n",
              "      <td>Angola</td>\n",
              "      <td>AGO</td>\n",
              "      <td>Country</td>\n",
              "      <td>Military expenditure (current USD)</td>\n",
              "      <td>NaN</td>\n",
              "      <td>NaN</td>\n",
              "      <td>NaN</td>\n",
              "      <td>NaN</td>\n",
              "      <td>NaN</td>\n",
              "      <td>NaN</td>\n",
              "      <td>...</td>\n",
              "      <td>3.311193e+09</td>\n",
              "      <td>3.500795e+09</td>\n",
              "      <td>3.639496e+09</td>\n",
              "      <td>4.144635e+09</td>\n",
              "      <td>6.090752e+09</td>\n",
              "      <td>6.841864e+09</td>\n",
              "      <td>3.608299e+09</td>\n",
              "      <td>2.764055e+09</td>\n",
              "      <td>3.062873e+09</td>\n",
              "      <td>1.983614e+09</td>\n",
              "    </tr>\n",
              "    <tr>\n",
              "      <th>3</th>\n",
              "      <td>Albania</td>\n",
              "      <td>ALB</td>\n",
              "      <td>Country</td>\n",
              "      <td>Military expenditure (current USD)</td>\n",
              "      <td>NaN</td>\n",
              "      <td>NaN</td>\n",
              "      <td>NaN</td>\n",
              "      <td>NaN</td>\n",
              "      <td>NaN</td>\n",
              "      <td>NaN</td>\n",
              "      <td>...</td>\n",
              "      <td>1.827369e+08</td>\n",
              "      <td>1.858932e+08</td>\n",
              "      <td>1.970068e+08</td>\n",
              "      <td>1.832047e+08</td>\n",
              "      <td>1.800155e+08</td>\n",
              "      <td>1.781204e+08</td>\n",
              "      <td>1.323507e+08</td>\n",
              "      <td>1.308532e+08</td>\n",
              "      <td>1.443827e+08</td>\n",
              "      <td>1.804887e+08</td>\n",
              "    </tr>\n",
              "    <tr>\n",
              "      <th>4</th>\n",
              "      <td>Andorra</td>\n",
              "      <td>AND</td>\n",
              "      <td>Country</td>\n",
              "      <td>Military expenditure (current USD)</td>\n",
              "      <td>NaN</td>\n",
              "      <td>NaN</td>\n",
              "      <td>NaN</td>\n",
              "      <td>NaN</td>\n",
              "      <td>NaN</td>\n",
              "      <td>NaN</td>\n",
              "      <td>...</td>\n",
              "      <td>NaN</td>\n",
              "      <td>NaN</td>\n",
              "      <td>NaN</td>\n",
              "      <td>NaN</td>\n",
              "      <td>NaN</td>\n",
              "      <td>NaN</td>\n",
              "      <td>NaN</td>\n",
              "      <td>NaN</td>\n",
              "      <td>NaN</td>\n",
              "      <td>NaN</td>\n",
              "    </tr>\n",
              "  </tbody>\n",
              "</table>\n",
              "<p>5 rows × 63 columns</p>\n",
              "</div>"
            ],
            "text/plain": [
              "          Name Code     Type                      Indicator Name  1960  1961  \\\n",
              "0        Aruba  ABW  Country  Military expenditure (current USD)   NaN   NaN   \n",
              "1  Afghanistan  AFG  Country  Military expenditure (current USD)   NaN   NaN   \n",
              "2       Angola  AGO  Country  Military expenditure (current USD)   NaN   NaN   \n",
              "3      Albania  ALB  Country  Military expenditure (current USD)   NaN   NaN   \n",
              "4      Andorra  AND  Country  Military expenditure (current USD)   NaN   NaN   \n",
              "\n",
              "   1962  1963  1964  1965  ...          2009          2010          2011  \\\n",
              "0   NaN   NaN   NaN   NaN  ...           NaN           NaN           NaN   \n",
              "1   NaN   NaN   NaN   NaN  ...  2.518695e+08  2.981469e+08  3.258070e+08   \n",
              "2   NaN   NaN   NaN   NaN  ...  3.311193e+09  3.500795e+09  3.639496e+09   \n",
              "3   NaN   NaN   NaN   NaN  ...  1.827369e+08  1.858932e+08  1.970068e+08   \n",
              "4   NaN   NaN   NaN   NaN  ...           NaN           NaN           NaN   \n",
              "\n",
              "           2012          2013          2014          2015          2016  \\\n",
              "0           NaN           NaN           NaN           NaN           NaN   \n",
              "1  2.385834e+08  2.171941e+08  2.682271e+08  1.995186e+08  1.858783e+08   \n",
              "2  4.144635e+09  6.090752e+09  6.841864e+09  3.608299e+09  2.764055e+09   \n",
              "3  1.832047e+08  1.800155e+08  1.781204e+08  1.323507e+08  1.308532e+08   \n",
              "4           NaN           NaN           NaN           NaN           NaN   \n",
              "\n",
              "           2017          2018  \n",
              "0           NaN           NaN  \n",
              "1  1.914071e+08  1.980863e+08  \n",
              "2  3.062873e+09  1.983614e+09  \n",
              "3  1.443827e+08  1.804887e+08  \n",
              "4           NaN           NaN  \n",
              "\n",
              "[5 rows x 63 columns]"
            ]
          },
          "execution_count": 6,
          "metadata": {},
          "output_type": "execute_result"
        }
      ],
      "source": [
        "df.head()"
      ]
    },
    {
      "cell_type": "code",
      "execution_count": null,
      "metadata": {
        "colab": {
          "base_uri": "https://localhost:8080/"
        },
        "id": "SfJpr0P1TeCG",
        "outputId": "4aabc84c-ca82-4a5b-8088-527440636bd6"
      },
      "outputs": [
        {
          "name": "stdout",
          "output_type": "stream",
          "text": [
            "[3, 8, 35, 48, 14, 72]\n"
          ]
        }
      ],
      "source": [
        "list1 = [1,2,5,6,7,9]\n",
        "list2 = [3,4,7,8,2,8]\n",
        "\n",
        "result_list = []\n",
        "for i in range(0, len(list1)):\n",
        "  result_list.append(list1[i]*list2[i])\n",
        "\n",
        "print(result_list)"
      ]
    },
    {
      "cell_type": "code",
      "execution_count": null,
      "metadata": {
        "colab": {
          "base_uri": "https://localhost:8080/"
        },
        "id": "iJYUzwBBUOh_",
        "outputId": "92284275-5b57-4fdc-9c5f-d3c80b53c93e"
      },
      "outputs": [
        {
          "name": "stdout",
          "output_type": "stream",
          "text": [
            "[2, 4, 65, 6]\n"
          ]
        }
      ],
      "source": [
        "list_new = [1,2,3,4,65,6,7,7, \"hello world\"]\n",
        "list_new.remove(3)\n",
        "print(list_new[1:5]) #slicing"
      ]
    },
    {
      "cell_type": "code",
      "execution_count": null,
      "metadata": {
        "id": "8lCCdWkQXQXY"
      },
      "outputs": [],
      "source": [
        "# tuples are immutable\n",
        "tuple_new = (1,2,3,4,5)\n",
        "# tuple_new.append(3) : error\n",
        "# tuple_new.remove(3) : error"
      ]
    },
    {
      "cell_type": "code",
      "execution_count": 5,
      "metadata": {
        "colab": {
          "base_uri": "https://localhost:8080/"
        },
        "id": "EASaav4GaXgg",
        "outputId": "d7e543a0-7be0-411c-c1ce-5e2a771c3abd"
      },
      "outputs": [
        {
          "name": "stdout",
          "output_type": "stream",
          "text": [
            "hello world\n"
          ]
        }
      ],
      "source": [
        "#list slicing\n",
        "text = \"hello world\"\n",
        "# list_text = [text, 1]\n",
        "# print(text[1:5])\n",
        "list4 = [1,2,3,\"hello world\"]\n",
        "sli_str = list4[3]\n",
        "print(sli_str[1:5])"
      ]
    }
  ],
  "metadata": {
    "colab": {
      "provenance": [],
      "toc_visible": true
    },
    "kernelspec": {
      "display_name": "Python 3.10.1 64-bit",
      "language": "python",
      "name": "python3"
    },
    "language_info": {
      "codemirror_mode": {
        "name": "ipython",
        "version": 3
      },
      "file_extension": ".py",
      "mimetype": "text/x-python",
      "name": "python",
      "nbconvert_exporter": "python",
      "pygments_lexer": "ipython3",
      "version": "3.10.1"
    },
    "vscode": {
      "interpreter": {
        "hash": "a775d68c7caa7466e6467fb23007def76106cad7ddbb74102d7b5c3b443bac69"
      }
    }
  },
  "nbformat": 4,
  "nbformat_minor": 0
}
