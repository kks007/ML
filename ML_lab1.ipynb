{
  "cells": [
    {
      "cell_type": "code",
      "execution_count": null,
      "metadata": {
        "id": "Mu4cr7caQM4H"
      },
      "outputs": [],
      "source": [
        "import pandas as pd\n",
        "import numpy as np"
      ]
    },
    {
      "cell_type": "code",
      "execution_count": null,
      "metadata": {
        "id": "yqtDfhZtRnzE"
      },
      "outputs": [],
      "source": [
        "df = pd.read_csv(\"CSVs/Military Expenditure.csv\")"
      ]
    },
    {
      "cell_type": "code",
      "execution_count": null,
      "metadata": {
        "id": "oJVsNv3vSW_d"
      },
      "outputs": [],
      "source": [
        "df.head()"
      ]
    },
    {
      "cell_type": "code",
      "execution_count": null,
      "metadata": {
        "colab": {
          "base_uri": "https://localhost:8080/"
        },
        "id": "SfJpr0P1TeCG",
        "outputId": "4aabc84c-ca82-4a5b-8088-527440636bd6"
      },
      "outputs": [],
      "source": [
        "list1 = [1,2,5,6,7,9]\n",
        "list2 = [3,4,7,8,2,8]\n",
        "\n",
        "result_list = []\n",
        "for i in range(0, len(list1)):\n",
        "  result_list.append(list1[i]*list2[i])\n",
        "\n",
        "print(result_list)"
      ]
    },
    {
      "cell_type": "code",
      "execution_count": null,
      "metadata": {
        "colab": {
          "base_uri": "https://localhost:8080/"
        },
        "id": "iJYUzwBBUOh_",
        "outputId": "92284275-5b57-4fdc-9c5f-d3c80b53c93e"
      },
      "outputs": [],
      "source": [
        "list_new = [1,2,3,4,65,6,7,7, \"hello world\"]\n",
        "list_new.remove(3)\n",
        "print(list_new[1:5]) #slicing"
      ]
    },
    {
      "cell_type": "code",
      "execution_count": null,
      "metadata": {
        "id": "8lCCdWkQXQXY"
      },
      "outputs": [],
      "source": [
        "# tuples are immutable\n",
        "tuple_new = (1,2,3,4,5)\n",
        "# tuple_new.append(3) : error\n",
        "# tuple_new.remove(3) : error"
      ]
    },
    {
      "cell_type": "code",
      "execution_count": null,
      "metadata": {
        "colab": {
          "base_uri": "https://localhost:8080/"
        },
        "id": "EASaav4GaXgg",
        "outputId": "d7e543a0-7be0-411c-c1ce-5e2a771c3abd"
      },
      "outputs": [],
      "source": [
        "#list slicing\n",
        "text = \"hello world\"\n",
        "# list_text = [text, 1]\n",
        "# print(text[1:5])\n",
        "list4 = [1,2,3,\"hello world\"]\n",
        "sli_str = list4[3]\n",
        "print(sli_str[1:5])"
      ]
    }
  ],
  "metadata": {
    "colab": {
      "provenance": [],
      "toc_visible": true
    },
    "kernelspec": {
      "display_name": "Python 3.10.1 64-bit",
      "language": "python",
      "name": "python3"
    },
    "language_info": {
      "codemirror_mode": {
        "name": "ipython",
        "version": 3
      },
      "file_extension": ".py",
      "mimetype": "text/x-python",
      "name": "python",
      "nbconvert_exporter": "python",
      "pygments_lexer": "ipython3",
      "version": "3.10.1"
    },
    "vscode": {
      "interpreter": {
        "hash": "a775d68c7caa7466e6467fb23007def76106cad7ddbb74102d7b5c3b443bac69"
      }
    }
  },
  "nbformat": 4,
  "nbformat_minor": 0
}
